{
  "cells": [
    {
      "cell_type": "markdown",
      "metadata": {
        "id": "view-in-github",
        "colab_type": "text"
      },
      "source": [
        "<a href=\"https://colab.research.google.com/github/Twals20/Data-mining-/blob/main/DM_ProjectGroup_19.ipynb\" target=\"_parent\"><img src=\"https://colab.research.google.com/assets/colab-badge.svg\" alt=\"Open In Colab\"/></a>"
      ]
    },
    {
      "cell_type": "markdown",
      "metadata": {
        "id": "yo3rbKcokNIp"
      },
      "source": [
        "#Business Understanding\n",
        "## 1.1 Background\n",
        "The  Zambina legal system produces different types of legislative documents, such as *Bills*, *Acts*, and *Statutory Instruments (SIs)*. These documents are essential for governance, law enforcement, and civic education. However, due to the large volume of documents and their textual similarities, it is difficult for the general public and researchers to quickly identify and categorize them.\n",
        "\n",
        "Manually classifying these documents is time-consuming and prone to errors. Therefore, applying data mining and machine learning techniques to automatically classify legislation can improve efficiency, accessibility, and public engagement with legal information.\n",
        "\n",
        "## 1.2 Project Problem Statement\n",
        "The increasing volume of Zambian legislative documents (Bills, Acts, and Statutory Instruments) makes manual classification inefficient, error-prone, and unsustainable. Currently, no automated system exists to categorize these documents, which limits accessibility and slows down research. This project addresses the problem by applying data mining and machine learning techniques to automatically classify legislative documents into their correct categories with improved accuracy and efficiency.\n",
        "\n",
        "## 1.3 Data Mining Goals  \n",
        "\n",
        "To achieve the business objectives, our project will focus on building a text classification model for legislative documents. Specifically, our goals are:  \n",
        "\n",
        "1. Model Development: Train a supervised machine learning model (e.g., Logistic Regression, Random Forest, or Neural Network) that can classify legislative documents into predefined legal categories.  \n",
        "2. Feature Extraction: Use Natural Language Processing (NLP) techniques such as TF-IDF or word embeddings to identify the most relevant keywords and features that drive the classification.  \n",
        "3. Performance Evaluation: Validate the model using accuracy, precision, recall, and F1-score to ensure it meets the success criteria (≥ 80% accuracy).  \n",
        "4. Interpretability: Ensure the model highlights the top features/keywords influencing each classification, making the results understandable for legal experts.  \n",
        "5. Efficiency: Optimize the pipeline so that classification of a new document can be done in under 2 seconds.  \n",
        "\n",
        "## 1.4 Project Objectives\n",
        "\n",
        "1. Collect and Prepare Data:\n",
        "Gather legislative documents (Bills, Acts, Statutory Instruments) from the National Assembly of Zambia and the Zambia Legal Information Institute, clean and label them for use in training and evaluation.\n",
        "\n",
        "2. Develop a Classification Model:\n",
        "Apply supervised machine learning techniques, using NLP-based feature extraction (e.g., TF-IDF, word embeddings), to classify documents into their correct categories.\n",
        "\n",
        "3. Evaluate and Optimize Performance:\n",
        "Validate the model using accuracy, precision, recall, and F1-score, aiming for at least 80% accuracy, and optimize classification speed to under 2 seconds per document.\n",
        "\n",
        "4. Ensure Interpretability:\n",
        "Incorporate mechanisms to highlight keywords or features influencing each classification, making outputs understandable to legal experts and non-experts.\n",
        "\n",
        "5. Deliver a Usable System:\n",
        "Package the trained model into a functional pipeline or prototype that can accept a legislative document and return its predicted category in real time.\n",
        "\n",
        "\n",
        "## 1.5 Project Success Criteria\n",
        "\n",
        "- *Model Accuracy: Achieve at least 80% classification accuracy* on a test dataset of legislative documents.\n",
        "- *Interpretability*: The model should provide clear reasoning (e.g., top keywords or features) for each classification.\n",
        "- *Practicality: The classification results should align with expert legal categorization at least 8 out of 10 times* when manually reviewed.\n",
        "- *Efficiency: Classify a new document in under 2 seconds*.\n",
        "\n",
        "- A working dataset of *at least 100–200 legislative documents* is collected and labeled.  \n",
        "- The *project deliverables* (codebase, report, and presentation) are completed and submitted by the deadline.\n",
        "\n"
      ]
    },
    {
      "cell_type": "markdown",
      "source": [
        "# Data Understanding\n"
      ],
      "metadata": {
        "id": "0oYEhaUDbP9b"
      }
    },
    {
      "cell_type": "code",
      "source": [
        "import pandas as pd\n",
        "from google.colab import files\n",
        "uploaded = files.upload()\n",
        "\n",
        "df1 = pd.read_csv(\"zambia_legislation_dataset.csv\")"
      ],
      "metadata": {
        "colab": {
          "base_uri": "https://localhost:8080/",
          "height": 73
        },
        "id": "LdZtJhYLbWCG",
        "outputId": "bb154215-5d9e-4a73-e849-04c3b22c7548"
      },
      "execution_count": null,
      "outputs": [
        {
          "output_type": "display_data",
          "data": {
            "text/plain": [
              "<IPython.core.display.HTML object>"
            ],
            "text/html": [
              "\n",
              "     <input type=\"file\" id=\"files-f012932d-f514-4390-a54c-ea7b3a75dfbf\" name=\"files[]\" multiple disabled\n",
              "        style=\"border:none\" />\n",
              "     <output id=\"result-f012932d-f514-4390-a54c-ea7b3a75dfbf\">\n",
              "      Upload widget is only available when the cell has been executed in the\n",
              "      current browser session. Please rerun this cell to enable.\n",
              "      </output>\n",
              "      <script>// Copyright 2017 Google LLC\n",
              "//\n",
              "// Licensed under the Apache License, Version 2.0 (the \"License\");\n",
              "// you may not use this file except in compliance with the License.\n",
              "// You may obtain a copy of the License at\n",
              "//\n",
              "//      http://www.apache.org/licenses/LICENSE-2.0\n",
              "//\n",
              "// Unless required by applicable law or agreed to in writing, software\n",
              "// distributed under the License is distributed on an \"AS IS\" BASIS,\n",
              "// WITHOUT WARRANTIES OR CONDITIONS OF ANY KIND, either express or implied.\n",
              "// See the License for the specific language governing permissions and\n",
              "// limitations under the License.\n",
              "\n",
              "/**\n",
              " * @fileoverview Helpers for google.colab Python module.\n",
              " */\n",
              "(function(scope) {\n",
              "function span(text, styleAttributes = {}) {\n",
              "  const element = document.createElement('span');\n",
              "  element.textContent = text;\n",
              "  for (const key of Object.keys(styleAttributes)) {\n",
              "    element.style[key] = styleAttributes[key];\n",
              "  }\n",
              "  return element;\n",
              "}\n",
              "\n",
              "// Max number of bytes which will be uploaded at a time.\n",
              "const MAX_PAYLOAD_SIZE = 100 * 1024;\n",
              "\n",
              "function _uploadFiles(inputId, outputId) {\n",
              "  const steps = uploadFilesStep(inputId, outputId);\n",
              "  const outputElement = document.getElementById(outputId);\n",
              "  // Cache steps on the outputElement to make it available for the next call\n",
              "  // to uploadFilesContinue from Python.\n",
              "  outputElement.steps = steps;\n",
              "\n",
              "  return _uploadFilesContinue(outputId);\n",
              "}\n",
              "\n",
              "// This is roughly an async generator (not supported in the browser yet),\n",
              "// where there are multiple asynchronous steps and the Python side is going\n",
              "// to poll for completion of each step.\n",
              "// This uses a Promise to block the python side on completion of each step,\n",
              "// then passes the result of the previous step as the input to the next step.\n",
              "function _uploadFilesContinue(outputId) {\n",
              "  const outputElement = document.getElementById(outputId);\n",
              "  const steps = outputElement.steps;\n",
              "\n",
              "  const next = steps.next(outputElement.lastPromiseValue);\n",
              "  return Promise.resolve(next.value.promise).then((value) => {\n",
              "    // Cache the last promise value to make it available to the next\n",
              "    // step of the generator.\n",
              "    outputElement.lastPromiseValue = value;\n",
              "    return next.value.response;\n",
              "  });\n",
              "}\n",
              "\n",
              "/**\n",
              " * Generator function which is called between each async step of the upload\n",
              " * process.\n",
              " * @param {string} inputId Element ID of the input file picker element.\n",
              " * @param {string} outputId Element ID of the output display.\n",
              " * @return {!Iterable<!Object>} Iterable of next steps.\n",
              " */\n",
              "function* uploadFilesStep(inputId, outputId) {\n",
              "  const inputElement = document.getElementById(inputId);\n",
              "  inputElement.disabled = false;\n",
              "\n",
              "  const outputElement = document.getElementById(outputId);\n",
              "  outputElement.innerHTML = '';\n",
              "\n",
              "  const pickedPromise = new Promise((resolve) => {\n",
              "    inputElement.addEventListener('change', (e) => {\n",
              "      resolve(e.target.files);\n",
              "    });\n",
              "  });\n",
              "\n",
              "  const cancel = document.createElement('button');\n",
              "  inputElement.parentElement.appendChild(cancel);\n",
              "  cancel.textContent = 'Cancel upload';\n",
              "  const cancelPromise = new Promise((resolve) => {\n",
              "    cancel.onclick = () => {\n",
              "      resolve(null);\n",
              "    };\n",
              "  });\n",
              "\n",
              "  // Wait for the user to pick the files.\n",
              "  const files = yield {\n",
              "    promise: Promise.race([pickedPromise, cancelPromise]),\n",
              "    response: {\n",
              "      action: 'starting',\n",
              "    }\n",
              "  };\n",
              "\n",
              "  cancel.remove();\n",
              "\n",
              "  // Disable the input element since further picks are not allowed.\n",
              "  inputElement.disabled = true;\n",
              "\n",
              "  if (!files) {\n",
              "    return {\n",
              "      response: {\n",
              "        action: 'complete',\n",
              "      }\n",
              "    };\n",
              "  }\n",
              "\n",
              "  for (const file of files) {\n",
              "    const li = document.createElement('li');\n",
              "    li.append(span(file.name, {fontWeight: 'bold'}));\n",
              "    li.append(span(\n",
              "        `(${file.type || 'n/a'}) - ${file.size} bytes, ` +\n",
              "        `last modified: ${\n",
              "            file.lastModifiedDate ? file.lastModifiedDate.toLocaleDateString() :\n",
              "                                    'n/a'} - `));\n",
              "    const percent = span('0% done');\n",
              "    li.appendChild(percent);\n",
              "\n",
              "    outputElement.appendChild(li);\n",
              "\n",
              "    const fileDataPromise = new Promise((resolve) => {\n",
              "      const reader = new FileReader();\n",
              "      reader.onload = (e) => {\n",
              "        resolve(e.target.result);\n",
              "      };\n",
              "      reader.readAsArrayBuffer(file);\n",
              "    });\n",
              "    // Wait for the data to be ready.\n",
              "    let fileData = yield {\n",
              "      promise: fileDataPromise,\n",
              "      response: {\n",
              "        action: 'continue',\n",
              "      }\n",
              "    };\n",
              "\n",
              "    // Use a chunked sending to avoid message size limits. See b/62115660.\n",
              "    let position = 0;\n",
              "    do {\n",
              "      const length = Math.min(fileData.byteLength - position, MAX_PAYLOAD_SIZE);\n",
              "      const chunk = new Uint8Array(fileData, position, length);\n",
              "      position += length;\n",
              "\n",
              "      const base64 = btoa(String.fromCharCode.apply(null, chunk));\n",
              "      yield {\n",
              "        response: {\n",
              "          action: 'append',\n",
              "          file: file.name,\n",
              "          data: base64,\n",
              "        },\n",
              "      };\n",
              "\n",
              "      let percentDone = fileData.byteLength === 0 ?\n",
              "          100 :\n",
              "          Math.round((position / fileData.byteLength) * 100);\n",
              "      percent.textContent = `${percentDone}% done`;\n",
              "\n",
              "    } while (position < fileData.byteLength);\n",
              "  }\n",
              "\n",
              "  // All done.\n",
              "  yield {\n",
              "    response: {\n",
              "      action: 'complete',\n",
              "    }\n",
              "  };\n",
              "}\n",
              "\n",
              "scope.google = scope.google || {};\n",
              "scope.google.colab = scope.google.colab || {};\n",
              "scope.google.colab._files = {\n",
              "  _uploadFiles,\n",
              "  _uploadFilesContinue,\n",
              "};\n",
              "})(self);\n",
              "</script> "
            ]
          },
          "metadata": {}
        },
        {
          "output_type": "stream",
          "name": "stdout",
          "text": [
            "Saving zambia_legislation_dataset.csv to zambia_legislation_dataset.csv\n"
          ]
        }
      ]
    },
    {
      "cell_type": "code",
      "source": [
        "import pandas as pd\n",
        "\n",
        "\n",
        "df = pd.read_csv(\"/content/zambia_legislation_dataset.csv\")\n",
        "\n",
        "# Quick check\n",
        "df.head()\n",
        "df.shape\n",
        "df.info()\n"
      ],
      "metadata": {
        "colab": {
          "base_uri": "https://localhost:8080/"
        },
        "id": "14pbfs8y5UFQ",
        "outputId": "da379451-5910-4dc2-9fff-567f17b0a7c3"
      },
      "execution_count": 1,
      "outputs": [
        {
          "output_type": "stream",
          "name": "stdout",
          "text": [
            "<class 'pandas.core.frame.DataFrame'>\n",
            "RangeIndex: 112 entries, 0 to 111\n",
            "Data columns (total 6 columns):\n",
            " #   Column            Non-Null Count  Dtype \n",
            "---  ------            --------------  ----- \n",
            " 0   Title             112 non-null    object\n",
            " 1   Instrument-type   112 non-null    object\n",
            " 2   Citation          109 non-null    object\n",
            " 3   Year              110 non-null    object\n",
            " 4   Category          112 non-null    object\n",
            " 5   Summary           112 non-null    object\n",
            "dtypes: object(6)\n",
            "memory usage: 5.4+ KB\n"
          ]
        }
      ]
    },
    {
      "cell_type": "code",
      "source": [
        "import pandas as pd\n",
        "\n",
        "# Load your uploaded CSV\n",
        "df = pd.read_csv(\"/content/zambia_legislation_dataset.csv\")\n",
        "\n",
        "# Check column names\n",
        "print(df.columns)\n"
      ],
      "metadata": {
        "colab": {
          "base_uri": "https://localhost:8080/"
        },
        "id": "6FzfcKubB2aZ",
        "outputId": "62f9b278-9f90-46d5-95be-da09735428a7"
      },
      "execution_count": 4,
      "outputs": [
        {
          "output_type": "stream",
          "name": "stdout",
          "text": [
            "Index(['Title ', 'Instrument-type ', 'Citation ', 'Year ', 'Category ',\n",
            "       'Summary '],\n",
            "      dtype='object')\n"
          ]
        }
      ]
    },
    {
      "cell_type": "code",
      "source": [
        "print(df.columns)\n"
      ],
      "metadata": {
        "colab": {
          "base_uri": "https://localhost:8080/"
        },
        "id": "keIBNdZFDk_k",
        "outputId": "c46e7e41-1c9a-479f-d50d-607853949f78"
      },
      "execution_count": 6,
      "outputs": [
        {
          "output_type": "stream",
          "name": "stdout",
          "text": [
            "Index(['Title ', 'Instrument-type ', 'Citation ', 'Year ', 'Category ',\n",
            "       'Summary '],\n",
            "      dtype='object')\n"
          ]
        }
      ]
    },
    {
      "cell_type": "code",
      "source": [
        "df.columns = df.columns.str.strip()\n"
      ],
      "metadata": {
        "id": "iNDLlElkDpGM"
      },
      "execution_count": 7,
      "outputs": []
    },
    {
      "cell_type": "code",
      "source": [
        "# Numeric summary\n",
        "df.describe()            # Summary stats for numeric columns\n",
        "\n",
        "# Year column exploration\n",
        "df['Year'].value_counts()  # Count of laws per year\n",
        "\n",
        "# Check for missing values in numeric columns\n",
        "df[['Year']].isnull().sum()\n"
      ],
      "metadata": {
        "colab": {
          "base_uri": "https://localhost:8080/",
          "height": 115
        },
        "id": "Fp4bmY3eD4CR",
        "outputId": "42f230fc-e4c5-4b4f-d5f8-8b8786fd4015"
      },
      "execution_count": 8,
      "outputs": [
        {
          "output_type": "execute_result",
          "data": {
            "text/plain": [
              "Year    2\n",
              "dtype: int64"
            ],
            "text/html": [
              "<div>\n",
              "<style scoped>\n",
              "    .dataframe tbody tr th:only-of-type {\n",
              "        vertical-align: middle;\n",
              "    }\n",
              "\n",
              "    .dataframe tbody tr th {\n",
              "        vertical-align: top;\n",
              "    }\n",
              "\n",
              "    .dataframe thead th {\n",
              "        text-align: right;\n",
              "    }\n",
              "</style>\n",
              "<table border=\"1\" class=\"dataframe\">\n",
              "  <thead>\n",
              "    <tr style=\"text-align: right;\">\n",
              "      <th></th>\n",
              "      <th>0</th>\n",
              "    </tr>\n",
              "  </thead>\n",
              "  <tbody>\n",
              "    <tr>\n",
              "      <th>Year</th>\n",
              "      <td>2</td>\n",
              "    </tr>\n",
              "  </tbody>\n",
              "</table>\n",
              "</div><br><label><b>dtype:</b> int64</label>"
            ]
          },
          "metadata": {},
          "execution_count": 8
        }
      ]
    },
    {
      "cell_type": "code",
      "source": [],
      "metadata": {
        "id": "pVWIZJRNEPVr"
      },
      "execution_count": null,
      "outputs": []
    }
  ],
  "metadata": {
    "colab": {
      "provenance": [],
      "include_colab_link": true
    },
    "kernelspec": {
      "display_name": "Python 3",
      "name": "python3"
    },
    "language_info": {
      "name": "python"
    }
  },
  "nbformat": 4,
  "nbformat_minor": 0
}