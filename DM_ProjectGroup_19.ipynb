{
  "nbformat": 4,
  "nbformat_minor": 0,
  "metadata": {
    "colab": {
      "provenance": []
    },
    "kernelspec": {
      "name": "python3",
      "display_name": "Python 3"
    },
    "language_info": {
      "name": "python"
    }
  },
  "cells": [
    {
      "cell_type": "markdown",
      "source": [
        "#Business Understanding\n",
        "## 1.1 Background\n",
        "The Zambina leggal system produces different types of legislative documents, such as Bills, Acts, and Statutory Instruments (SIs). These documents are essential for governance, law enforcement, and civic education. However, due to the large volume of documents and their textual similarities, it is difficult for the general public and researchers to quickly identify and categorize them.\n",
        "\n",
        "Manually classifying these documents is time-consuming and prone to errors. Therefore, applying data mining and machine learning techniques to automatically classify legislation can improve efficiency, accessibility, and public engagement with legal information.\n",
        "\n",
        "## 1.2 Project Problem Statement\n",
        "The increasing volume of Zambian legislative documents (Bills, Acts, and Statutory Instruments) makes manual classification inefficient, error-prone, and unsustainable. Currently, no automated system exists to categorize these documents, which limits accessibility and slows down research. This project addresses the problem by applying data mining and machine learning techniques to automatically classify legislative documents into their correct categories with improved accuracy and efficiency.\n",
        "\n",
        "## 1.3 Data Mining Goals  \n",
        "\n",
        "To achieve the business objectives, our project will focus on building a text classification model for legislative documents. Specifically, our goals are:  \n",
        "\n",
        "1. Model Development: Train a supervised machine learning model (e.g., Logistic Regression, Random Forest, or Neural Network) that can classify legislative documents into predefined legal categories.  \n",
        "2. Feature Extraction: Use Natural Language Processing (NLP) techniques such as TF-IDF or word embeddings to identify the most relevant keywords and features that drive the classification.  \n",
        "3. Performance Evaluation: Validate the model using accuracy, precision, recall, and F1-score to ensure it meets the success criteria (≥ 80% accuracy).  \n",
        "4. Interpretability: Ensure the model highlights the top features/keywords influencing each classification, making the results understandable for legal experts.  \n",
        "5. Efficiency: Optimize the pipeline so that classification of a new document can be done in under 2 seconds.  \n",
        "\n",
        "\n",
        "\n",
        "\n",
        "## 1.5 Project Success Criteria\n",
        "\n",
        "- *Model Accuracy: Achieve at least 80% classification accuracy* on a test dataset of legislative documents.\n",
        "- *Interpretability*: The model should provide clear reasoning (e.g., top keywords or features) for each classification.\n",
        "- *Practicality: The classification results should align with expert legal categorization at least 8 out of 10 times* when manually reviewed.\n",
        "- *Efficiency: Classify a new document in under 2 seconds*.\n",
        "\n",
        "- A working dataset of *at least 100–200 legislative documents* is collected and labeled.  \n",
        "- The *project deliverables* (codebase, report, and presentation) are completed and submitted by the deadline.\n",
        "\n"
      ],
      "metadata": {
        "id": "yo3rbKcokNIp"
      }
    }
  ]
}